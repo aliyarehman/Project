{
 "cells": [
  {
   "cell_type": "code",
   "execution_count": 5,
   "metadata": {
    "collapsed": true
   },
   "outputs": [],
   "source": [
    "# importing necessary libraries for analysis \n",
    "import pandas as pd\n",
    "import numpy as np\n",
    "import matplotlib.pyplot as plt\n",
    "import seaborn as sns\n",
    "import statsmodels as sm \n",
    "from scipy.stats import pearsonr\n",
    "from numpy.random import seed\n",
    "from numpy import mean\n",
    "from numpy import var\n",
    "from math import sqrt\n",
    "from pandas_ml import ConfusionMatrix\n",
    "from sklearn.metrics import confusion_matrix\n",
    "import itertools\n",
    "\n",
    "# Use ggplot style for visulizations\n",
    "plt.style.use('ggplot')"
   ]
  },
  {
   "cell_type": "code",
   "execution_count": 6,
   "metadata": {},
   "outputs": [
    {
     "name": "stdout",
     "output_type": "stream",
     "text": [
      "Index(['id', 'evo_data', 'evo_resp', 'rmp_data', 'rmp_resp'], dtype='object')\n"
     ]
    },
    {
     "data": {
      "text/html": [
       "<div>\n",
       "<style>\n",
       "    .dataframe thead tr:only-child th {\n",
       "        text-align: right;\n",
       "    }\n",
       "\n",
       "    .dataframe thead th {\n",
       "        text-align: left;\n",
       "    }\n",
       "\n",
       "    .dataframe tbody tr th {\n",
       "        vertical-align: top;\n",
       "    }\n",
       "</style>\n",
       "<table border=\"1\" class=\"dataframe\">\n",
       "  <thead>\n",
       "    <tr style=\"text-align: right;\">\n",
       "      <th></th>\n",
       "      <th>id</th>\n",
       "      <th>evo_data</th>\n",
       "      <th>evo_resp</th>\n",
       "      <th>rmp_data</th>\n",
       "      <th>rmp_resp</th>\n",
       "    </tr>\n",
       "  </thead>\n",
       "  <tbody>\n",
       "    <tr>\n",
       "      <th>0</th>\n",
       "      <td>18V0003736</td>\n",
       "      <td>0.13</td>\n",
       "      <td>0</td>\n",
       "      <td>0.11</td>\n",
       "      <td>0</td>\n",
       "    </tr>\n",
       "    <tr>\n",
       "      <th>1</th>\n",
       "      <td>18V0003895</td>\n",
       "      <td>0.12</td>\n",
       "      <td>0</td>\n",
       "      <td>0.10</td>\n",
       "      <td>0</td>\n",
       "    </tr>\n",
       "    <tr>\n",
       "      <th>2</th>\n",
       "      <td>18V0003901</td>\n",
       "      <td>0.16</td>\n",
       "      <td>0</td>\n",
       "      <td>0.11</td>\n",
       "      <td>0</td>\n",
       "    </tr>\n",
       "    <tr>\n",
       "      <th>3</th>\n",
       "      <td>18V0004030</td>\n",
       "      <td>0.15</td>\n",
       "      <td>0</td>\n",
       "      <td>0.11</td>\n",
       "      <td>0</td>\n",
       "    </tr>\n",
       "    <tr>\n",
       "      <th>4</th>\n",
       "      <td>18V0004031</td>\n",
       "      <td>0.13</td>\n",
       "      <td>0</td>\n",
       "      <td>0.11</td>\n",
       "      <td>0</td>\n",
       "    </tr>\n",
       "  </tbody>\n",
       "</table>\n",
       "</div>"
      ],
      "text/plain": [
       "           id  evo_data  evo_resp  rmp_data  rmp_resp\n",
       "0  18V0003736      0.13         0      0.11         0\n",
       "1  18V0003895      0.12         0      0.10         0\n",
       "2  18V0003901      0.16         0      0.11         0\n",
       "3  18V0004030      0.15         0      0.11         0\n",
       "4  18V0004031      0.13         0      0.11         0"
      ]
     },
     "execution_count": 6,
     "metadata": {},
     "output_type": "execute_result"
    }
   ],
   "source": [
    "# Import Syph data\n",
    "data = pd.read_excel('HTLV1.xlsx', index=False)\n",
    "\n",
    "# Read the required columns\n",
    "data = data[['sample_id', 'data_1', 'co_1', 'data_2', 'co_2']]\n",
    "\n",
    "# Set new column names\n",
    "data.columns = [['id', 'evo_data', 'evo_resp', 'rmp_data', 'rmp_resp']]\n",
    "\n",
    "# Change negative and positive values to 0 and 1 respectively \n",
    "data = data.replace('POSITIVE', 1)\n",
    "data = data.replace('Negative', 0)\n",
    "data = data.replace('EQUIVOCAL', 1)\n",
    "\n",
    "\n",
    "\n",
    "# Print columns and head\n",
    "print(data.columns)\n",
    "data.head()"
   ]
  },
  {
   "cell_type": "code",
   "execution_count": 8,
   "metadata": {},
   "outputs": [
    {
     "data": {
      "image/png": "[encoded data removed]",
      "text/plain": [
       "<matplotlib.figure.Figure at 0x15e46a2ea58>"
      ]
     },
     "metadata": {},
     "output_type": "display_data"
    },
    {
     "data": {
      "text/plain": [
       "0    94\n",
       "1     3\n",
       "Name: evo_resp, dtype: int64"
      ]
     },
     "execution_count": 8,
     "metadata": {},
     "output_type": "execute_result"
    }
   ],
   "source": [
    "x = np.arange(2)\n",
    "y =data.evo_resp.value_counts()\n",
    "\n",
    "\n",
    "from pylab import rcParams\n",
    "rcParams['figure.figsize'] = 8,5\n",
    "plt.bar(x, y)\n",
    "plt.xticks(x, ('Negative', 'Positive'))\n",
    "plt.title('evo_resp')\n",
    "plt.show()\n",
    "y"
   ]
  },
  {
   "cell_type": "code",
   "execution_count": 9,
   "metadata": {},
   "outputs": [
    {
     "data": {
      "image/png": "[encoded data removed]",
      "text/plain": [
       "<matplotlib.figure.Figure at 0x15e46a65978>"
      ]
     },
     "metadata": {},
     "output_type": "display_data"
    },
    {
     "data": {
      "text/plain": [
       "0    95\n",
       "1     2\n",
       "Name: rmp_resp, dtype: int64"
      ]
     },
     "execution_count": 9,
     "metadata": {},
     "output_type": "execute_result"
    }
   ],
   "source": [
    "x = np.arange(2)\n",
    "y =data.rmp_resp.value_counts()\n",
    "\n",
    "\n",
    "from pylab import rcParams\n",
    "rcParams['figure.figsize'] = 6,5\n",
    "plt.bar(x, y)\n",
    "plt.xticks(x, ('Negative', 'Positive'))\n",
    "plt.title('rmp_resp')\n",
    "plt.show()\n",
    "y"
   ]
  },
  {
   "cell_type": "code",
   "execution_count": 10,
   "metadata": {},
   "outputs": [
    {
     "name": "stdout",
     "output_type": "stream",
     "text": [
      "count    97.000000\n",
      "mean      0.201340\n",
      "std       0.620981\n",
      "min       0.100000\n",
      "25%       0.110000\n",
      "50%       0.120000\n",
      "75%       0.130000\n",
      "max       6.060000\n",
      "Name: evo_data, dtype: float64\n"
     ]
    }
   ],
   "source": [
    "# Describe the 5 point statistics of the dataset\n",
    "print(data.evo_data.describe())"
   ]
  },
  {
   "cell_type": "code",
   "execution_count": 11,
   "metadata": {},
   "outputs": [
    {
     "data": {
      "text/plain": [
       "count    97.000000\n",
       "mean      0.158763\n",
       "std       0.363869\n",
       "min       0.060000\n",
       "25%       0.110000\n",
       "50%       0.110000\n",
       "75%       0.130000\n",
       "max       3.600000\n",
       "Name: rmp_data, dtype: float64"
      ]
     },
     "execution_count": 11,
     "metadata": {},
     "output_type": "execute_result"
    }
   ],
   "source": [
    "data.rmp_data.describe()"
   ]
  },
  {
   "cell_type": "code",
   "execution_count": 7,
   "metadata": {
    "scrolled": true
   },
   "outputs": [
    {
     "data": {
      "text/html": [
       "<div>\n",
       "<style scoped>\n",
       "    .dataframe tbody tr th:only-of-type {\n",
       "        vertical-align: middle;\n",
       "    }\n",
       "\n",
       "    .dataframe tbody tr th {\n",
       "        vertical-align: top;\n",
       "    }\n",
       "\n",
       "    .dataframe thead tr th {\n",
       "        text-align: left;\n",
       "    }\n",
       "</style>\n",
       "<table border=\"1\" class=\"dataframe\">\n",
       "  <thead>\n",
       "    <tr>\n",
       "      <th></th>\n",
       "      <th>evo_data</th>\n",
       "      <th>evo_resp</th>\n",
       "      <th>rmp_data</th>\n",
       "      <th>rmp_resp</th>\n",
       "    </tr>\n",
       "  </thead>\n",
       "  <tbody>\n",
       "    <tr>\n",
       "      <th>count</th>\n",
       "      <td>97.000000</td>\n",
       "      <td>97.000000</td>\n",
       "      <td>97.000000</td>\n",
       "      <td>97.000000</td>\n",
       "    </tr>\n",
       "    <tr>\n",
       "      <th>mean</th>\n",
       "      <td>0.201340</td>\n",
       "      <td>0.030928</td>\n",
       "      <td>0.158763</td>\n",
       "      <td>0.020619</td>\n",
       "    </tr>\n",
       "    <tr>\n",
       "      <th>std</th>\n",
       "      <td>0.620981</td>\n",
       "      <td>0.174022</td>\n",
       "      <td>0.363869</td>\n",
       "      <td>0.142842</td>\n",
       "    </tr>\n",
       "    <tr>\n",
       "      <th>min</th>\n",
       "      <td>0.100000</td>\n",
       "      <td>0.000000</td>\n",
       "      <td>0.060000</td>\n",
       "      <td>0.000000</td>\n",
       "    </tr>\n",
       "    <tr>\n",
       "      <th>25%</th>\n",
       "      <td>0.110000</td>\n",
       "      <td>0.000000</td>\n",
       "      <td>0.110000</td>\n",
       "      <td>0.000000</td>\n",
       "    </tr>\n",
       "    <tr>\n",
       "      <th>50%</th>\n",
       "      <td>0.120000</td>\n",
       "      <td>0.000000</td>\n",
       "      <td>0.110000</td>\n",
       "      <td>0.000000</td>\n",
       "    </tr>\n",
       "    <tr>\n",
       "      <th>75%</th>\n",
       "      <td>0.130000</td>\n",
       "      <td>0.000000</td>\n",
       "      <td>0.130000</td>\n",
       "      <td>0.000000</td>\n",
       "    </tr>\n",
       "    <tr>\n",
       "      <th>max</th>\n",
       "      <td>6.060000</td>\n",
       "      <td>1.000000</td>\n",
       "      <td>3.600000</td>\n",
       "      <td>1.000000</td>\n",
       "    </tr>\n",
       "  </tbody>\n",
       "</table>\n",
       "</div>"
      ],
      "text/plain": [
       "        evo_data   evo_resp   rmp_data   rmp_resp\n",
       "count  97.000000  97.000000  97.000000  97.000000\n",
       "mean    0.201340   0.030928   0.158763   0.020619\n",
       "std     0.620981   0.174022   0.363869   0.142842\n",
       "min     0.100000   0.000000   0.060000   0.000000\n",
       "25%     0.110000   0.000000   0.110000   0.000000\n",
       "50%     0.120000   0.000000   0.110000   0.000000\n",
       "75%     0.130000   0.000000   0.130000   0.000000\n",
       "max     6.060000   1.000000   3.600000   1.000000"
      ]
     },
     "execution_count": 7,
     "metadata": {},
     "output_type": "execute_result"
    }
   ],
   "source": [
    "# Describe the 5 point statistics of the dataset\n",
    "data.describe()"
   ]
  },
  {
   "cell_type": "code",
   "execution_count": 13,
   "metadata": {},
   "outputs": [
    {
     "data": {
      "image/png": "[encoded data removed]",
      "text/plain": [
       "<matplotlib.figure.Figure at 0x15e46c0cf98>"
      ]
     },
     "metadata": {},
     "output_type": "display_data"
    }
   ],
   "source": [
    "# Scatter plot between evo and rmp data readings \n",
    "\n",
    "from pylab import rcParams\n",
    "rcParams['figure.figsize'] = 10,8\n",
    "plt.scatter(data.evo_data, data.rmp_data)\n",
    "plt.xlabel('EVO')\n",
    "plt.ylabel('RMP')\n",
    "plt.title('HTLV')\n",
    "plt.show()"
   ]
  },
  {
   "cell_type": "code",
   "execution_count": 9,
   "metadata": {},
   "outputs": [
    {
     "data": {
      "image/png": "[encoded data removed]",
      "text/plain": [
       "<matplotlib.figure.Figure at 0x114dfc400>"
      ]
     },
     "metadata": {},
     "output_type": "display_data"
    }
   ],
   "source": [
    "# Scatter plot between evo and rmp data readings \n",
    "\n",
    "from pylab import rcParams\n",
    "rcParams['figure.figsize'] = 15, 5\n",
    "plt.scatter(data.evo_data, data.rmp_data)\n",
    "plt.xlabel('EVO')\n",
    "plt.ylabel('RMP')\n",
    "plt.title('HTLV')\n",
    "plt.show()"
   ]
  },
  {
   "cell_type": "code",
   "execution_count": 14,
   "metadata": {},
   "outputs": [
    {
     "data": {
      "image/png": "[encoded data removed]",
      "text/plain": [
       "<matplotlib.figure.Figure at 0x15e46c5e550>"
      ]
     },
     "metadata": {},
     "output_type": "display_data"
    }
   ],
   "source": [
    "# !conda remove seaborn\n",
    "# import seaborn as sns\n",
    "sns.scatterplot(x='evo_data', y='rmp_data', hue='evo_resp', data=data, legend='full' )\n",
    "plt.title('Scatterplot color coded by outcome')\n",
    "# plt.legend(data.rmp_data, ['negative', 'positive'])\n",
    "plt.show()"
   ]
  },
  {
   "cell_type": "code",
   "execution_count": 15,
   "metadata": {
    "scrolled": false
   },
   "outputs": [
    {
     "data": {
      "image/png": "[encoded data removed]",
      "text/plain": [
       "<matplotlib.figure.Figure at 0x15e46c3b710>"
      ]
     },
     "metadata": {},
     "output_type": "display_data"
    }
   ],
   "source": [
    "# Plot histograms to inspect the typical values\n",
    "\n",
    "data['evo_data'].hist(bins=5, label='evo_data', alpha=0.5)\n",
    "data['rmp_data'].hist(bins=5, label='rmp_data', alpha=0.5)\n",
    "plt.legend()\n",
    "plt.show()"
   ]
  },
  {
   "cell_type": "code",
   "execution_count": 18,
   "metadata": {},
   "outputs": [
    {
     "data": {
      "image/png": "[encoded data removed]",
      "text/plain": [
       "<matplotlib.figure.Figure at 0x15e465e6320>"
      ]
     },
     "metadata": {},
     "output_type": "display_data"
    }
   ],
   "source": [
    "# Plot distributions as overlapping kde plots\n",
    "\n",
    "kde = data[['evo_data', 'rmp_data']].copy()\n",
    "kde.plot.kde()\n",
    "plt.show()"
   ]
  },
  {
   "cell_type": "code",
   "execution_count": 19,
   "metadata": {},
   "outputs": [
    {
     "data": {
      "text/plain": [
       "0.028284271247461894"
      ]
     },
     "execution_count": 19,
     "metadata": {},
     "output_type": "execute_result"
    }
   ],
   "source": [
    "plot1 = data.evo_data\n",
    "plot2 = data.rmp_data\n",
    "euclidean_distance = sqrt( (plot1[0]-plot2[0])**2 + (plot1[1]-plot2[1])**2 )\n",
    "euclidean_distance"
   ]
  },
  {
   "cell_type": "code",
   "execution_count": 20,
   "metadata": {},
   "outputs": [
    {
     "data": {
      "image/png": "[encoded data removed]",
      "text/plain": [
       "<matplotlib.figure.Figure at 0x15e465b44e0>"
      ]
     },
     "metadata": {},
     "output_type": "display_data"
    }
   ],
   "source": [
    "# Plot the CDFs\n",
    "def ks_plot_comp(data_1, data_2):\n",
    "    '''\n",
    "    Data entereted must be the same size.\n",
    "    '''\n",
    "    \n",
    "    data_2 = data_2\n",
    "    length = len(data_1)\n",
    "    plt.figure(figsize=(14, 5))\n",
    "    plt.plot(np.sort(data_1), np.linspace(0, 1, len(data_1), endpoint=False))\n",
    "    plt.plot(np.sort(data_2), np.linspace(0, 1, len(data_2), endpoint=False))\n",
    "    plt.legend('top right')\n",
    "    plt.legend(['Evo ', 'RMP'])\n",
    "    plt.title('Comparing 2 CDFs for KS-Test')\n",
    "    plt.show()\n",
    "    \n",
    "ks_plot_comp(data.evo_data, data.rmp_data)"
   ]
  },
  {
   "cell_type": "code",
   "execution_count": 21,
   "metadata": {},
   "outputs": [
    {
     "data": {
      "text/plain": [
       "Ks_2sampResult(statistic=0.15463917525773196, pvalue=0.17933412447583871)"
      ]
     },
     "execution_count": 21,
     "metadata": {},
     "output_type": "execute_result"
    }
   ],
   "source": [
    "from scipy import stats \n",
    "stats.ks_2samp(data.evo_data, data.rmp_data)"
   ]
  },
  {
   "cell_type": "code",
   "execution_count": 25,
   "metadata": {
    "collapsed": true
   },
   "outputs": [],
   "source": [
    "# Convert data to numpy arrays and calculate pearson correlation coefficient\n",
    "\n",
    "x = np.array(data.evo_data)\n",
    "y = np.array(data.rmp_data)"
   ]
  },
  {
   "cell_type": "code",
   "execution_count": 26,
   "metadata": {},
   "outputs": [
    {
     "name": "stdout",
     "output_type": "stream",
     "text": [
      "Pearsons correlation: 0.998\n"
     ]
    }
   ],
   "source": [
    "# Pearson Correlation\n",
    "\n",
    "corr, _ = pearsonr(x,y)\n",
    "print('Pearsons correlation: %.3f' % corr)"
   ]
  },
  {
   "cell_type": "code",
   "execution_count": 27,
   "metadata": {},
   "outputs": [
    {
     "name": "stdout",
     "output_type": "stream",
     "text": [
      "Cohens d: -0.084\n"
     ]
    }
   ],
   "source": [
    "# Effect Size Measurement\n",
    "\n",
    "# function to calculate Cohen's d for independent samples\n",
    "def cohend(d1, d2):\n",
    "    # calculate the size of samples\n",
    "    n1, n2 = len(d1), len(d2)\n",
    "    # calculate the variance of the samples\n",
    "    s1, s2 = var(d1, ddof=1), var(d2, ddof=1)\n",
    "    # calculate the pooled standard deviation\n",
    "    s = sqrt(((n1 - 1) * s1 + (n2 - 1) * s2) / (n1 + n2 - 2))\n",
    "    # calculate the means of the samples\n",
    "    u1, u2 = mean(d1), mean(d2)\n",
    "    # calculate the effect size\n",
    "    return (u1 - u2) / s\n",
    "\n",
    "\n",
    "d = cohend(y,x)\n",
    "print('Cohens d: %.3f' % d)"
   ]
  },
  {
   "cell_type": "code",
   "execution_count": 28,
   "metadata": {},
   "outputs": [
    {
     "data": {
      "text/plain": [
       "Ttest_indResult(statistic=-0.58262825704612953, pvalue=0.5608271856537117)"
      ]
     },
     "execution_count": 28,
     "metadata": {},
     "output_type": "execute_result"
    }
   ],
   "source": [
    "# Run Independant and dependant t-tests \n",
    "\n",
    "from scipy import stats\n",
    "stats.ttest_ind(y,x)"
   ]
  },
  {
   "cell_type": "code",
   "execution_count": 29,
   "metadata": {},
   "outputs": [
    {
     "data": {
      "text/plain": [
       "Ttest_relResult(statistic=-1.6203896210431228, pvalue=0.10842894909556224)"
      ]
     },
     "execution_count": 29,
     "metadata": {},
     "output_type": "execute_result"
    }
   ],
   "source": [
    "stats.ttest_rel(y,x)"
   ]
  },
  {
   "cell_type": "code",
   "execution_count": 30,
   "metadata": {},
   "outputs": [
    {
     "name": "stdout",
     "output_type": "stream",
     "text": [
      "Predicted   0  1  __all__\n",
      "Actual                   \n",
      "0          94  1       95\n",
      "1           0  2        2\n",
      "__all__    94  3       97\n",
      "population: 97\n",
      "P: 2\n",
      "N: 95\n",
      "PositiveTest: 3\n",
      "NegativeTest: 94\n",
      "TP: 2\n",
      "TN: 94\n",
      "FP: 1\n",
      "FN: 0\n",
      "TPR: 1.0\n",
      "TNR: 0.989473684211\n",
      "PPV: 0.666666666667\n",
      "NPV: 1.0\n",
      "FPR: 0.0105263157895\n",
      "FDR: 0.333333333333\n",
      "FNR: 0.0\n",
      "ACC: 0.989690721649\n",
      "F1_score: 0.8\n",
      "MCC: 0.81218786177\n",
      "informedness: 0.989473684211\n",
      "markedness: 0.666666666667\n",
      "prevalence: 0.020618556701\n",
      "LRP: 95.0\n",
      "LRN: 0.0\n",
      "DOR: inf\n",
      "FOR: 0.0\n"
     ]
    },
    {
     "name": "stderr",
     "output_type": "stream",
     "text": [
      "C:\\Anaconda3\\lib\\site-packages\\pandas_ml\\confusion_matrix\\bcm.py:346: RuntimeWarning: divide by zero encountered in double_scalars\n",
      "  return(np.float64(self.LRP) / self.LRN)\n"
     ]
    }
   ],
   "source": [
    "# Calculate confusion and matrix and diagnosticsa\n",
    "\n",
    "EVO=np.hstack(np.array(data['evo_resp']))\n",
    "RMP=np.hstack(np.array(data['rmp_resp']))\n",
    "\n",
    "cm = ConfusionMatrix(RMP, EVO)\n",
    "print(cm)\n",
    "cm.print_stats()"
   ]
  },
  {
   "cell_type": "code",
   "execution_count": 35,
   "metadata": {},
   "outputs": [
    {
     "name": "stdout",
     "output_type": "stream",
     "text": [
      "Confusion matrix, without normalization\n",
      "[[94  1]\n",
      " [ 0  2]]\n"
     ]
    },
    {
     "data": {
      "image/png": "[encoded data removed]",
      "text/plain": [
       "<matplotlib.figure.Figure at 0x15e46ee4470>"
      ]
     },
     "metadata": {},
     "output_type": "display_data"
    }
   ],
   "source": [
    "# Draw Confusion matrix for report\n",
    "# Motivation for this visualization has been taken from stackoverflow discussion at:\n",
    "# https://stackoverflow.com/questions/48817300/sklearn-plot-confusion-matrix-combined-across-trainingtest-sets\n",
    "plt.style.use('seaborn-dark')\n",
    "from pylab import rcParams\n",
    "rcParams['figure.figsize'] = 10,10\n",
    "\n",
    "def plot_confusion_matrix(cm, classes,\n",
    "                          normalize=False,\n",
    "                          title='Confusion matrix',\n",
    "                          cmap=plt.cm.Blues):\n",
    "    \"\"\"\n",
    "    This function prints and plots the confusion matrix.\n",
    "    Normalization can be applied by setting `normalize=True`.\n",
    "    \"\"\"\n",
    "    if normalize:\n",
    "        cm = cm.astype('float') / cm.sum(axis=1)[:, np.newaxis]\n",
    "        print(\"Normalized confusion matrix\")\n",
    "    else:\n",
    "        print('Confusion matrix, without normalization')\n",
    "\n",
    "    print(cm)\n",
    "\n",
    "    plt.imshow(cm, interpolation='nearest', cmap='Blues')\n",
    "    plt.title(title, fontsize=20)\n",
    "    plt.colorbar()\n",
    "    tick_marks = np.arange(len(classes))\n",
    "    plt.xticks(tick_marks, classes, rotation=45)\n",
    "    plt.yticks(tick_marks, classes)\n",
    "\n",
    "    fmt = '.2f' if normalize else 'd'\n",
    "    thresh = cm.max() / 2.\n",
    "    for i, j in itertools.product(range(cm.shape[0]), range(cm.shape[1])):\n",
    "        plt.text(j, i, format(cm[i, j], fmt ), fontsize = 20,\n",
    "                 horizontalalignment=\"center\",\n",
    "                 color=\"white\" if cm[i, j] > thresh else \"black\")\n",
    "\n",
    "    plt.tight_layout()\n",
    "    plt.ylabel('RMP Results - Truth', fontsize=15)\n",
    "    plt.xlabel('EVO Results', fontsize=15)\n",
    "\n",
    "\n",
    "cm = confusion_matrix(RMP, EVO)\n",
    "\n",
    "plt.figure()\n",
    "plot_confusion_matrix(cm, classes = [0,1], title='Confusion matrix')\n",
    "plt.show()"
   ]
  },
  {
   "cell_type": "code",
   "execution_count": null,
   "metadata": {
    "collapsed": true
   },
   "outputs": [],
   "source": []
  }
 ],
 "metadata": {
  "kernelspec": {
   "display_name": "Python 3",
   "language": "python",
   "name": "python3"
  },
  "language_info": {
   "codemirror_mode": {
    "name": "ipython",
    "version": 3
   },
   "file_extension": ".py",
   "mimetype": "text/x-python",
   "name": "python",
   "nbconvert_exporter": "python",
   "pygments_lexer": "ipython3",
   "version": "3.6.2"
  }
 },
 "nbformat": 4,
 "nbformat_minor": 2
}
