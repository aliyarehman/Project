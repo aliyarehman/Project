{
 "cells": [
  {
   "cell_type": "code",
   "execution_count": 40,
   "metadata": {},
   "outputs": [],
   "source": [
    "# importing necessary libraries for analysis \n",
    "import pandas as pd\n",
    "import numpy as np\n",
    "import matplotlib.pyplot as plt\n",
    "import seaborn as sns\n",
    "import statsmodels as sm \n",
    "from scipy.stats import pearsonr\n",
    "from numpy.random import seed\n",
    "from numpy import mean\n",
    "from numpy import var\n",
    "from math import sqrt\n",
    "from pandas_ml import ConfusionMatrix\n",
    "from sklearn.metrics import confusion_matrix\n",
    "import itertools\n",
    "\n",
    "# Use ggplot style for visulizations\n",
    "plt.style.use('seaborn-dark')"
   ]
  },
  {
   "cell_type": "code",
   "execution_count": 41,
   "metadata": {},
   "outputs": [
    {
     "name": "stdout",
     "output_type": "stream",
     "text": [
      "MultiIndex(levels=[['evo_data', 'evo_resp', 'id', 'rmp_data', 'rmp_resp']],\n",
      "           labels=[[2, 0, 1, 3, 4]])\n"
     ]
    },
    {
     "data": {
      "text/html": [
       "<div>\n",
       "<style scoped>\n",
       "    .dataframe tbody tr th:only-of-type {\n",
       "        vertical-align: middle;\n",
       "    }\n",
       "\n",
       "    .dataframe tbody tr th {\n",
       "        vertical-align: top;\n",
       "    }\n",
       "\n",
       "    .dataframe thead tr th {\n",
       "        text-align: left;\n",
       "    }\n",
       "</style>\n",
       "<table border=\"1\" class=\"dataframe\">\n",
       "  <thead>\n",
       "    <tr>\n",
       "      <th></th>\n",
       "      <th>id</th>\n",
       "      <th>evo_data</th>\n",
       "      <th>evo_resp</th>\n",
       "      <th>rmp_data</th>\n",
       "      <th>rmp_resp</th>\n",
       "    </tr>\n",
       "  </thead>\n",
       "  <tbody>\n",
       "    <tr>\n",
       "      <th>0</th>\n",
       "      <td>17V0161024</td>\n",
       "      <td>0.18</td>\n",
       "      <td>0</td>\n",
       "      <td>0.09</td>\n",
       "      <td>0</td>\n",
       "    </tr>\n",
       "    <tr>\n",
       "      <th>1</th>\n",
       "      <td>17V0161767</td>\n",
       "      <td>4.05</td>\n",
       "      <td>1</td>\n",
       "      <td>3.90</td>\n",
       "      <td>1</td>\n",
       "    </tr>\n",
       "    <tr>\n",
       "      <th>2</th>\n",
       "      <td>17V0161827</td>\n",
       "      <td>0.12</td>\n",
       "      <td>0</td>\n",
       "      <td>0.06</td>\n",
       "      <td>0</td>\n",
       "    </tr>\n",
       "    <tr>\n",
       "      <th>3</th>\n",
       "      <td>17V0161840</td>\n",
       "      <td>0.12</td>\n",
       "      <td>0</td>\n",
       "      <td>0.05</td>\n",
       "      <td>0</td>\n",
       "    </tr>\n",
       "    <tr>\n",
       "      <th>4</th>\n",
       "      <td>17V0161877</td>\n",
       "      <td>0.12</td>\n",
       "      <td>0</td>\n",
       "      <td>0.06</td>\n",
       "      <td>0</td>\n",
       "    </tr>\n",
       "  </tbody>\n",
       "</table>\n",
       "</div>"
      ],
      "text/plain": [
       "           id evo_data evo_resp rmp_data rmp_resp\n",
       "0  17V0161024     0.18        0     0.09        0\n",
       "1  17V0161767     4.05        1     3.90        1\n",
       "2  17V0161827     0.12        0     0.06        0\n",
       "3  17V0161840     0.12        0     0.05        0\n",
       "4  17V0161877     0.12        0     0.06        0"
      ]
     },
     "execution_count": 41,
     "metadata": {},
     "output_type": "execute_result"
    }
   ],
   "source": [
    "# Import HIV data\n",
    "data = pd.read_excel('HIV1.xlsx', index=False)\n",
    "\n",
    "# Read the required columns\n",
    "data = data[['sample_id', 'data_1', 'Cutoff ', 'data_2', 'Cutoff .1']]\n",
    "\n",
    "# Set new column names\n",
    "data.columns = [['id', 'evo_data', 'evo_resp', 'rmp_data', 'rmp_resp']]\n",
    "\n",
    "# Change negative and positive values to 0 and 1 respectively \n",
    "data = data.replace('POSITIVE', 1)\n",
    "data = data.replace('Negative', 0)\n",
    "\n",
    "\n",
    "# Print columns and head\n",
    "print(data.columns)\n",
    "data.head()"
   ]
  },
  {
   "cell_type": "code",
   "execution_count": 42,
   "metadata": {},
   "outputs": [],
   "source": [
    "# # Import Rubella data\n",
    "# data = pd.read_excel('Rubella.xlsx', index=False)\n",
    "# # data = data[['sample_id', 'data_1', 'Cutoff ', 'data_2', 'Cutoff .1']]\n",
    "# # ## set column names\n",
    "# # data.columns = [['id', 'evo_data', 'evo_resp', 'rmp_data', 'rmp_resp']]\n",
    "\n",
    "# data.columns"
   ]
  },
  {
   "cell_type": "code",
   "execution_count": 43,
   "metadata": {},
   "outputs": [],
   "source": [
    "# # Import HTLV data\n",
    "# data = pd.read_excel('Rubella.xlsx', index=False)\n",
    "# # data = data[['sample_id', 'data_1', 'Cutoff ', 'data_2', 'Cutoff .1']]\n",
    "# # ## set column names\n",
    "# # data.columns = [['id', 'evo_data', 'evo_resp', 'rmp_data', 'rmp_resp']]\n",
    "\n",
    "# data.columns"
   ]
  },
  {
   "cell_type": "code",
   "execution_count": 44,
   "metadata": {},
   "outputs": [],
   "source": [
    "# # Import Syphillis data\n",
    "# syph = pd.read_excel('Syphillis.xlsx', index=False)\n",
    "# syph.columns = [['id', 'evo_data', 'evo_resp', 'rmp_data', 'rmp_resp']]\n",
    "# # syph = syph.drop(syph.index[:1])\n",
    "# syph.head(10)"
   ]
  },
  {
   "cell_type": "code",
   "execution_count": 45,
   "metadata": {
    "scrolled": true
   },
   "outputs": [
    {
     "data": {
      "text/html": [
       "<div>\n",
       "<style scoped>\n",
       "    .dataframe tbody tr th:only-of-type {\n",
       "        vertical-align: middle;\n",
       "    }\n",
       "\n",
       "    .dataframe tbody tr th {\n",
       "        vertical-align: top;\n",
       "    }\n",
       "\n",
       "    .dataframe thead tr th {\n",
       "        text-align: left;\n",
       "    }\n",
       "</style>\n",
       "<table border=\"1\" class=\"dataframe\">\n",
       "  <thead>\n",
       "    <tr>\n",
       "      <th></th>\n",
       "      <th>evo_data</th>\n",
       "      <th>evo_resp</th>\n",
       "      <th>rmp_data</th>\n",
       "      <th>rmp_resp</th>\n",
       "    </tr>\n",
       "  </thead>\n",
       "  <tbody>\n",
       "    <tr>\n",
       "      <th>count</th>\n",
       "      <td>324.000000</td>\n",
       "      <td>324.000000</td>\n",
       "      <td>324.000000</td>\n",
       "      <td>324.000000</td>\n",
       "    </tr>\n",
       "    <tr>\n",
       "      <th>mean</th>\n",
       "      <td>0.251852</td>\n",
       "      <td>0.040123</td>\n",
       "      <td>0.159907</td>\n",
       "      <td>0.043210</td>\n",
       "    </tr>\n",
       "    <tr>\n",
       "      <th>std</th>\n",
       "      <td>0.659762</td>\n",
       "      <td>0.196552</td>\n",
       "      <td>0.549919</td>\n",
       "      <td>0.203644</td>\n",
       "    </tr>\n",
       "    <tr>\n",
       "      <th>min</th>\n",
       "      <td>0.100000</td>\n",
       "      <td>0.000000</td>\n",
       "      <td>0.040000</td>\n",
       "      <td>0.000000</td>\n",
       "    </tr>\n",
       "    <tr>\n",
       "      <th>25%</th>\n",
       "      <td>0.110000</td>\n",
       "      <td>0.000000</td>\n",
       "      <td>0.050000</td>\n",
       "      <td>0.000000</td>\n",
       "    </tr>\n",
       "    <tr>\n",
       "      <th>50%</th>\n",
       "      <td>0.130000</td>\n",
       "      <td>0.000000</td>\n",
       "      <td>0.060000</td>\n",
       "      <td>0.000000</td>\n",
       "    </tr>\n",
       "    <tr>\n",
       "      <th>75%</th>\n",
       "      <td>0.140000</td>\n",
       "      <td>0.000000</td>\n",
       "      <td>0.060000</td>\n",
       "      <td>0.000000</td>\n",
       "    </tr>\n",
       "    <tr>\n",
       "      <th>max</th>\n",
       "      <td>4.120000</td>\n",
       "      <td>1.000000</td>\n",
       "      <td>3.900000</td>\n",
       "      <td>1.000000</td>\n",
       "    </tr>\n",
       "  </tbody>\n",
       "</table>\n",
       "</div>"
      ],
      "text/plain": [
       "         evo_data    evo_resp    rmp_data    rmp_resp\n",
       "count  324.000000  324.000000  324.000000  324.000000\n",
       "mean     0.251852    0.040123    0.159907    0.043210\n",
       "std      0.659762    0.196552    0.549919    0.203644\n",
       "min      0.100000    0.000000    0.040000    0.000000\n",
       "25%      0.110000    0.000000    0.050000    0.000000\n",
       "50%      0.130000    0.000000    0.060000    0.000000\n",
       "75%      0.140000    0.000000    0.060000    0.000000\n",
       "max      4.120000    1.000000    3.900000    1.000000"
      ]
     },
     "execution_count": 45,
     "metadata": {},
     "output_type": "execute_result"
    }
   ],
   "source": [
    "# Describe the 5 point statistics of the dataset\n",
    "data.describe()"
   ]
  },
  {
   "cell_type": "code",
   "execution_count": 107,
   "metadata": {},
   "outputs": [
    {
     "data": {
      "image/png": "[encoded data removed]",
      "text/plain": [
       "<matplotlib.figure.Figure at 0x1a181acc18>"
      ]
     },
     "metadata": {},
     "output_type": "display_data"
    }
   ],
   "source": [
    "# Scatter plot between evo and rmp data readings \n",
    "\n",
    "from pylab import rcParams\n",
    "rcParams['figure.figsize'] = 15, 5\n",
    "plt.scatter(data.evo_data, data.rmp_data)\n",
    "plt.xlabel('EVO')\n",
    "plt.ylabel('RMP')\n",
    "plt.title('HIV')\n",
    "plt.show()"
   ]
  },
  {
   "cell_type": "code",
   "execution_count": 108,
   "metadata": {
    "scrolled": false
   },
   "outputs": [
    {
     "data": {
      "text/plain": [
       "array([[<matplotlib.axes._subplots.AxesSubplot object at 0x1a19b97358>]],\n",
       "      dtype=object)"
      ]
     },
     "execution_count": 108,
     "metadata": {},
     "output_type": "execute_result"
    },
    {
     "data": {
      "image/png": "[encoded data removed]",
      "text/plain": [
       "<matplotlib.figure.Figure at 0x1a17795d30>"
      ]
     },
     "metadata": {},
     "output_type": "display_data"
    },
    {
     "data": {
      "image/png": "[encoded data removed]",
      "text/plain": [
       "<matplotlib.figure.Figure at 0x1a19b30c88>"
      ]
     },
     "metadata": {},
     "output_type": "display_data"
    }
   ],
   "source": [
    "# Plot histograms to inspect the typical values\n",
    "\n",
    "data['evo_data'].hist(bins=5)\n",
    "data['rmp_data'].hist(bins=5)\n"
   ]
  },
  {
   "cell_type": "code",
   "execution_count": 109,
   "metadata": {},
   "outputs": [
    {
     "data": {
      "text/plain": [
       "<matplotlib.axes._subplots.AxesSubplot at 0x1a17795d30>"
      ]
     },
     "execution_count": 109,
     "metadata": {},
     "output_type": "execute_result"
    },
    {
     "data": {
      "image/png": "[encoded data removed]",
      "text/plain": [
       "<matplotlib.figure.Figure at 0x1a19c536d8>"
      ]
     },
     "metadata": {},
     "output_type": "display_data"
    }
   ],
   "source": [
    "# Plot distributions as overlapping kde plots\n",
    "\n",
    "kde = data[['evo_data', 'rmp_data']].copy()\n",
    "kde.plot.kde()"
   ]
  },
  {
   "cell_type": "code",
   "execution_count": 110,
   "metadata": {},
   "outputs": [],
   "source": [
    "# Convert data to numpy arrays and calculate pearson correlation coefficient\n",
    "\n",
    "x = np.array(data.evo_data)\n",
    "y = np.array(data.rmp_data)"
   ]
  },
  {
   "cell_type": "code",
   "execution_count": 112,
   "metadata": {},
   "outputs": [
    {
     "name": "stdout",
     "output_type": "stream",
     "text": [
      "Pearsons correlation: 0.974\n"
     ]
    }
   ],
   "source": [
    "# Pearson Correlation\n",
    "\n",
    "corr, _ = pearsonr(x,y)\n",
    "print('Pearsons correlation: %.3f' % corr)"
   ]
  },
  {
   "cell_type": "code",
   "execution_count": 50,
   "metadata": {},
   "outputs": [
    {
     "name": "stdout",
     "output_type": "stream",
     "text": [
      "Cohens d: 0.151\n"
     ]
    }
   ],
   "source": [
    "# Effect Size Measurement\n",
    "\n",
    "# function to calculate Cohen's d for independent samples\n",
    "def cohend(d1, d2):\n",
    "    # calculate the size of samples\n",
    "    n1, n2 = len(d1), len(d2)\n",
    "    # calculate the variance of the samples\n",
    "    s1, s2 = var(d1, ddof=1), var(d2, ddof=1)\n",
    "    # calculate the pooled standard deviation\n",
    "    s = sqrt(((n1 - 1) * s1 + (n2 - 1) * s2) / (n1 + n2 - 2))\n",
    "    # calculate the means of the samples\n",
    "    u1, u2 = mean(d1), mean(d2)\n",
    "    # calculate the effect size\n",
    "    return (u1 - u2) / s\n",
    "\n",
    "\n",
    "d = cohend(x,y)\n",
    "print('Cohens d: %.3f' % d)"
   ]
  },
  {
   "cell_type": "code",
   "execution_count": 53,
   "metadata": {},
   "outputs": [
    {
     "data": {
      "text/plain": [
       "Ttest_indResult(statistic=array([1.92689814]), pvalue=array([0.05443061]))"
      ]
     },
     "execution_count": 53,
     "metadata": {},
     "output_type": "execute_result"
    }
   ],
   "source": [
    "# Run Independant and dependant t-tests \n",
    "\n",
    "from scipy import stats\n",
    "stats.ttest_ind(x,y)"
   ]
  },
  {
   "cell_type": "code",
   "execution_count": 54,
   "metadata": {},
   "outputs": [
    {
     "data": {
      "text/plain": [
       "Ttest_relResult(statistic=array([9.42224983]), pvalue=array([8.77853164e-19]))"
      ]
     },
     "execution_count": 54,
     "metadata": {},
     "output_type": "execute_result"
    }
   ],
   "source": [
    "stats.ttest_rel(x,y)"
   ]
  },
  {
   "cell_type": "code",
   "execution_count": 113,
   "metadata": {},
   "outputs": [
    {
     "name": "stdout",
     "output_type": "stream",
     "text": [
      "Predicted  False  True  __all__\n",
      "Actual                         \n",
      "False        307     4      311\n",
      "True           3    10       13\n",
      "__all__      310    14      324\n",
      "population: 324\n",
      "P: 13\n",
      "N: 311\n",
      "PositiveTest: 14\n",
      "NegativeTest: 310\n",
      "TP: 10\n",
      "TN: 307\n",
      "FP: 4\n",
      "FN: 3\n",
      "TPR: 0.7692307692307693\n",
      "TNR: 0.9871382636655949\n",
      "PPV: 0.7142857142857143\n",
      "NPV: 0.9903225806451613\n",
      "FPR: 0.012861736334405145\n",
      "FDR: 0.2857142857142857\n",
      "FNR: 0.23076923076923078\n",
      "ACC: 0.9783950617283951\n",
      "F1_score: 0.7407407407407407\n",
      "MCC: 0.7300300641806626\n",
      "informedness: 0.7563690328963641\n",
      "markedness: 0.7046082949308756\n",
      "prevalence: 0.040123456790123455\n",
      "LRP: 59.807692307692314\n",
      "LRN: 0.2337759959909797\n",
      "DOR: 255.83333333333337\n",
      "FOR: 0.00967741935483871\n"
     ]
    }
   ],
   "source": [
    "# Calculate confusion and matrix and diagnosticsa\n",
    "\n",
    "EVO=np.hstack(np.array(data['evo_resp']))\n",
    "RMP=np.hstack(np.array(data['rmp_resp']))\n",
    "\n",
    "cm = ConfusionMatrix(EVO, RMP)\n",
    "print(cm)\n",
    "cm.print_stats()"
   ]
  },
  {
   "cell_type": "code",
   "execution_count": 114,
   "metadata": {},
   "outputs": [
    {
     "name": "stdout",
     "output_type": "stream",
     "text": [
      "Confusion matrix, without normalization\n",
      "[[307   4]\n",
      " [  3  10]]\n"
     ]
    },
    {
     "data": {
      "image/png": "[encoded data removed]",
      "text/plain": [
       "<matplotlib.figure.Figure at 0x105961470>"
      ]
     },
     "metadata": {},
     "output_type": "display_data"
    }
   ],
   "source": [
    "# Draw Confusion matrix for report\n",
    "# Motivation for this visualization has been taken from stackoverflow discussion at:\n",
    "# https://stackoverflow.com/questions/48817300/sklearn-plot-confusion-matrix-combined-across-trainingtest-sets\n",
    "\n",
    "from pylab import rcParams\n",
    "rcParams['figure.figsize'] = 10,10\n",
    "\n",
    "def plot_confusion_matrix(cm, classes,\n",
    "                          normalize=False,\n",
    "                          title='Confusion matrix',\n",
    "                          cmap=plt.cm.Blues):\n",
    "    \"\"\"\n",
    "    This function prints and plots the confusion matrix.\n",
    "    Normalization can be applied by setting `normalize=True`.\n",
    "    \"\"\"\n",
    "    if normalize:\n",
    "        cm = cm.astype('float') / cm.sum(axis=1)[:, np.newaxis]\n",
    "        print(\"Normalized confusion matrix\")\n",
    "    else:\n",
    "        print('Confusion matrix, without normalization')\n",
    "\n",
    "    print(cm)\n",
    "\n",
    "    plt.imshow(cm, interpolation='nearest', cmap='Blues')\n",
    "    plt.title(title, fontsize=20)\n",
    "    plt.colorbar()\n",
    "    tick_marks = np.arange(len(classes))\n",
    "    plt.xticks(tick_marks, classes, rotation=45)\n",
    "    plt.yticks(tick_marks, classes)\n",
    "\n",
    "    fmt = '.2f' if normalize else 'd'\n",
    "    thresh = cm.max() / 2.\n",
    "    for i, j in itertools.product(range(cm.shape[0]), range(cm.shape[1])):\n",
    "        plt.text(j, i, format(cm[i, j], fmt ), fontsize = 20,\n",
    "                 horizontalalignment=\"center\",\n",
    "                 color=\"white\" if cm[i, j] > thresh else \"black\")\n",
    "\n",
    "    plt.tight_layout()\n",
    "    plt.ylabel('EVO Results - Truth', fontsize=15)\n",
    "    plt.xlabel('RMP Results', fontsize=15)\n",
    "\n",
    "\n",
    "cm = confusion_matrix(EVO,RMP)\n",
    "\n",
    "plt.figure()\n",
    "plot_confusion_matrix(cm, classes = [0,1], title='Confusion matrix')"
   ]
  },
  {
   "cell_type": "code",
   "execution_count": null,
   "metadata": {},
   "outputs": [],
   "source": []
  }
 ],
 "metadata": {
  "kernelspec": {
   "display_name": "Python 3",
   "language": "python",
   "name": "python3"
  },
  "language_info": {
   "codemirror_mode": {
    "name": "ipython",
    "version": 3
   },
   "file_extension": ".py",
   "mimetype": "text/x-python",
   "name": "python",
   "nbconvert_exporter": "python",
   "pygments_lexer": "ipython3",
   "version": "3.6.4"
  }
 },
 "nbformat": 4,
 "nbformat_minor": 2
}
